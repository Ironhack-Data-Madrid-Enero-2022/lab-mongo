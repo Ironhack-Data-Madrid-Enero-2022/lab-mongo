{
 "cells": [
  {
   "cell_type": "markdown",
   "metadata": {},
   "source": [
    "![Ironhack Logo](https://i.imgur.com/1QgrNNw.png)"
   ]
  },
  {
   "cell_type": "code",
   "execution_count": 10,
   "metadata": {},
   "outputs": [],
   "source": [
    "from pymongo import MongoClient\n",
    "import pandas as pd\n",
    "\n",
    "cliente = MongoClient(\"mongodb://localhost:27017/\")\n",
    "db=cliente.companies\n",
    "col=db.companies"
   ]
  },
  {
   "cell_type": "code",
   "execution_count": 13,
   "metadata": {},
   "outputs": [
    {
     "data": {
      "text/plain": [
       "<pymongo.cursor.Cursor at 0x7f0a3c8cd5e0>"
      ]
     },
     "execution_count": 13,
     "metadata": {},
     "output_type": "execute_result"
    }
   ],
   "source": [
    "(col.find()).limit(10)"
   ]
  },
  {
   "cell_type": "markdown",
   "metadata": {},
   "source": [
    "# Answers\n",
    "### 1. All the companies that it's name match 'Babelgum'. Retrieve only their `name` field."
   ]
  },
  {
   "cell_type": "code",
   "execution_count": 21,
   "metadata": {},
   "outputs": [
    {
     "data": {
      "text/plain": [
       "[{'name': 'Babelgum'}]"
      ]
     },
     "execution_count": 21,
     "metadata": {},
     "output_type": "execute_result"
    }
   ],
   "source": [
    "list(col.find({'name':'Babelgum'},{'_id':0,'name':1}))"
   ]
  },
  {
   "cell_type": "markdown",
   "metadata": {},
   "source": [
    "### 2. All the companies that have more than 5000 employees. Limit the search to 20 companies and sort them by **number of employees**."
   ]
  },
  {
   "cell_type": "code",
   "execution_count": 27,
   "metadata": {},
   "outputs": [
    {
     "data": {
      "text/plain": [
       "[{'name': 'Siemens', 'number_of_employees': 405000},\n",
       " {'name': 'IBM', 'number_of_employees': 388000},\n",
       " {'name': 'Toyota', 'number_of_employees': 320000},\n",
       " {'name': 'PayPal', 'number_of_employees': 300000},\n",
       " {'name': 'Nippon Telegraph and Telephone Corporation',\n",
       "  'number_of_employees': 227000},\n",
       " {'name': 'Samsung Electronics', 'number_of_employees': 221726},\n",
       " {'name': 'Accenture', 'number_of_employees': 205000},\n",
       " {'name': 'Tata Consultancy Services', 'number_of_employees': 200300},\n",
       " {'name': 'Flextronics International', 'number_of_employees': 200000},\n",
       " {'name': 'Safeway', 'number_of_employees': 186000},\n",
       " {'name': 'Sony', 'number_of_employees': 180500},\n",
       " {'name': 'LG', 'number_of_employees': 177000},\n",
       " {'name': 'Ford', 'number_of_employees': 171000},\n",
       " {'name': 'Boeing', 'number_of_employees': 160000},\n",
       " {'name': 'Digital Equipment Corporation', 'number_of_employees': 140000},\n",
       " {'name': 'Nokia', 'number_of_employees': 125000},\n",
       " {'name': 'MItsubishi Electric', 'number_of_employees': 107000},\n",
       " {'name': 'MItsubishi Electric', 'number_of_employees': 107000},\n",
       " {'name': 'Comcast', 'number_of_employees': 100000},\n",
       " {'name': 'Bertelsmann', 'number_of_employees': 100000}]"
      ]
     },
     "execution_count": 27,
     "metadata": {},
     "output_type": "execute_result"
    }
   ],
   "source": [
    "list(col.find({'number_of_employees':{'$gt': 5000}},{'_id':0, 'name':1,'number_of_employees':'1'})\\\n",
    "     .limit(20).sort('number_of_employees',-1))"
   ]
  },
  {
   "cell_type": "markdown",
   "metadata": {},
   "source": [
    "### 3. All the companies founded between 2000 and 2005, both years included. Retrieve only the `name` and `founded_year` fileds."
   ]
  },
  {
   "cell_type": "code",
   "execution_count": 38,
   "metadata": {},
   "outputs": [
    {
     "data": {
      "text/plain": [
       "[{'name': 'AllofMP3', 'founded_year': 2000},\n",
       " {'name': 'Steorn', 'founded_year': 2000},\n",
       " {'name': 'MeeVee', 'founded_year': 2000},\n",
       " {'name': 'PhotoBox', 'founded_year': 2000},\n",
       " {'name': 'Boonex', 'founded_year': 2000},\n",
       " {'name': 'Sulake', 'founded_year': 2000},\n",
       " {'name': 'SelectMinds', 'founded_year': 2000},\n",
       " {'name': 'ContextWeb', 'founded_year': 2000},\n",
       " {'name': 'ZoomInfo', 'founded_year': 2000},\n",
       " {'name': 'eHarmony', 'founded_year': 2000},\n",
       " {'name': 'Espotting', 'founded_year': 2000},\n",
       " {'name': 'airG', 'founded_year': 2000},\n",
       " {'name': 'Marchex', 'founded_year': 2000},\n",
       " {'name': 'ContactOffice', 'founded_year': 2000},\n",
       " {'name': 'WooMe', 'founded_year': 2000},\n",
       " {'name': 'Boomi', 'founded_year': 2000},\n",
       " {'name': 'zSlide', 'founded_year': 2000},\n",
       " {'name': 'Phrasebase', 'founded_year': 2000},\n",
       " {'name': 'Ubertor', 'founded_year': 2000},\n",
       " {'name': 'JobDig', 'founded_year': 2000},\n",
       " {'name': 'Quigo', 'founded_year': 2000},\n",
       " {'name': 'Compete', 'founded_year': 2000},\n",
       " {'name': 'LinkStorm', 'founded_year': 2000},\n",
       " {'name': 'iStockphoto', 'founded_year': 2000},\n",
       " {'name': 'beRecruited', 'founded_year': 2000},\n",
       " {'name': 'FastBooking', 'founded_year': 2000},\n",
       " {'name': 'Smilebox', 'founded_year': 2000},\n",
       " {'name': 'Deem', 'founded_year': 2000},\n",
       " {'name': 'CDNetworks', 'founded_year': 2000},\n",
       " {'name': 'TripAdvisor', 'founded_year': 2000},\n",
       " {'name': 'Oversee', 'founded_year': 2000},\n",
       " {'name': 'iModules Software', 'founded_year': 2000},\n",
       " {'name': 'eTeacher', 'founded_year': 2000},\n",
       " {'name': 'uVuMobile', 'founded_year': 2000},\n",
       " {'name': 'Escapia', 'founded_year': 2000}]"
      ]
     },
     "execution_count": 38,
     "metadata": {},
     "output_type": "execute_result"
    }
   ],
   "source": [
    "list(col.find({'founded_year':{'$gte': 2000,'$lte':2005}},{'_id':0, 'name':1,'founded_year':'1'})\n",
    "     .limit(35).sort('founded_year',1))"
   ]
  },
  {
   "cell_type": "markdown",
   "metadata": {},
   "source": [
    "### 4. All the companies that had a Valuation Amount of more than 100.000.000 and have been founded before 2010. Retrieve only the `name` and `ipo` fields."
   ]
  },
  {
   "cell_type": "code",
   "execution_count": 58,
   "metadata": {},
   "outputs": [
    {
     "data": {
      "text/plain": [
       "[{'name': 'Nielsen', 'ipo': {'valuation_amount': 1600000000}},\n",
       " {'name': 'Western Digital', 'ipo': {'valuation_amount': 9430000000}},\n",
       " {'name': 'BMC Software', 'ipo': {'valuation_amount': 6000000000}},\n",
       " {'name': 'Geeknet', 'ipo': {'valuation_amount': 134000000}},\n",
       " {'name': 'QlikTech', 'ipo': {'valuation_amount': 1000000000}},\n",
       " {'name': 'Amazon', 'ipo': {'valuation_amount': 100000000000}},\n",
       " {'name': 'OpenTable', 'ipo': {'valuation_amount': 1050000000}},\n",
       " {'name': 'Rackspace', 'ipo': {'valuation_amount': 5440000000}},\n",
       " {'name': 'Tencent', 'ipo': {'valuation_amount': 11000000000}},\n",
       " {'name': 'Shutterfly', 'ipo': {'valuation_amount': 350000000}},\n",
       " {'name': 'Salesforce', 'ipo': {'valuation_amount': 110000000}},\n",
       " {'name': 'QuinStreet', 'ipo': {'valuation_amount': 140000000}},\n",
       " {'name': 'Infoblox', 'ipo': {'valuation_amount': 824000000}},\n",
       " {'name': 'Baidu', 'ipo': {'valuation_amount': 4000000000}},\n",
       " {'name': 'Opsware', 'ipo': {'valuation_amount': 450000000}},\n",
       " {'name': 'Telenav', 'ipo': {'valuation_amount': 337000000}},\n",
       " {'name': 'Mixi', 'ipo': {'valuation_amount': 970000000}},\n",
       " {'name': 'SolarWinds', 'ipo': {'valuation_amount': 803000000}},\n",
       " {'name': 'DemandTec', 'ipo': {'valuation_amount': 245000000}},\n",
       " {'name': 'Cornerstone OnDemand', 'ipo': {'valuation_amount': 900000000}}]"
      ]
     },
     "execution_count": 58,
     "metadata": {},
     "output_type": "execute_result"
    }
   ],
   "source": [
    "list((col.find({'ipo.valuation_amount': {'$gt':100000000},'founded_year':{'$lt':2010}},{'_id':0, 'name':1,'ipo.valuation_amount':1 })\n",
    "     .limit(20).sort('founded_year',1)))"
   ]
  },
  {
   "cell_type": "markdown",
   "metadata": {},
   "source": [
    "### 5. All the companies that have less than 1000 employees and have been founded before 2005. Order them by the number of employees and limit the search to 10 companies."
   ]
  },
  {
   "cell_type": "code",
   "execution_count": 87,
   "metadata": {},
   "outputs": [
    {
     "data": {
      "text/plain": [
       "[{'name': 'InMobi', 'number_of_employees': 900},\n",
       " {'name': 'Relax Solutions Pvt Ltd', 'number_of_employees': 900},\n",
       " {'name': '4shared', 'number_of_employees': 666},\n",
       " {'name': 'HubSpot', 'number_of_employees': 650},\n",
       " {'name': 'Kabam', 'number_of_employees': 650},\n",
       " {'name': 'Linekong', 'number_of_employees': 600},\n",
       " {'name': 'Square', 'number_of_employees': 600},\n",
       " {'name': 'Vostu', 'number_of_employees': 550},\n",
       " {'name': 'i365, A Seagate Company', 'number_of_employees': 550},\n",
       " {'name': 'TaskUs', 'number_of_employees': 540}]"
      ]
     },
     "execution_count": 87,
     "metadata": {},
     "output_type": "execute_result"
    }
   ],
   "source": [
    "list((col.find({'number_of_employees': {'$lt':1000},'founded_year':{'$gt':2005}},{'_id':0, 'name':1,'number_of_employees':1 })\n",
    "     .limit(10).sort('number_of_employees',-1)))"
   ]
  },
  {
   "cell_type": "markdown",
   "metadata": {},
   "source": [
    "### 6. All the companies that don't include the `partners` field."
   ]
  },
  {
   "cell_type": "code",
   "execution_count": 86,
   "metadata": {},
   "outputs": [
    {
     "data": {
      "text/plain": [
       "[]"
      ]
     },
     "execution_count": 86,
     "metadata": {},
     "output_type": "execute_result"
    }
   ],
   "source": [
    "list((col.find({'partners': {'$type': 10 }},{'_id':0, 'name':1})\n",
    "     .limit(30)))"
   ]
  },
  {
   "cell_type": "markdown",
   "metadata": {},
   "source": [
    "### 7. All the companies that have a null type of value on the `category_code` field."
   ]
  },
  {
   "cell_type": "code",
   "execution_count": 76,
   "metadata": {},
   "outputs": [
    {
     "data": {
      "text/plain": [
       "[{'name': 'Wetpaint'},\n",
       " {'name': 'AdventNet'},\n",
       " {'name': 'Zoho'},\n",
       " {'name': 'Digg'},\n",
       " {'name': 'Facebook'},\n",
       " {'name': 'Omnidrive'},\n",
       " {'name': 'Postini'},\n",
       " {'name': 'Geni'},\n",
       " {'name': 'Flektor'},\n",
       " {'name': 'Fox Interactive Media'},\n",
       " {'name': 'Twitter'},\n",
       " {'name': 'StumbleUpon'},\n",
       " {'name': 'Gizmoz'},\n",
       " {'name': 'Scribd'},\n",
       " {'name': 'Slacker'},\n",
       " {'name': 'Lala'},\n",
       " {'name': 'Helio'},\n",
       " {'name': 'eBay'},\n",
       " {'name': 'MeetMoi'},\n",
       " {'name': 'Joost'},\n",
       " {'name': 'CBS'},\n",
       " {'name': 'Viacom'},\n",
       " {'name': 'Babelgum'},\n",
       " {'name': 'Plaxo'},\n",
       " {'name': 'Cisco'},\n",
       " {'name': 'Yahoo!'},\n",
       " {'name': 'Powerset'},\n",
       " {'name': 'Technorati'},\n",
       " {'name': 'SpinVox'},\n",
       " {'name': 'AddThis'}]"
      ]
     },
     "execution_count": 76,
     "metadata": {},
     "output_type": "execute_result"
    }
   ],
   "source": [
    "list((col.find({'category_code': {'$ne': None}},{'_id':0, 'name':1})\n",
    "     .limit(30)))"
   ]
  },
  {
   "cell_type": "markdown",
   "metadata": {},
   "source": [
    "### 8. All the companies that have at least 100 employees but less than 1000. Retrieve only the `name` and `number of employees` fields."
   ]
  },
  {
   "cell_type": "code",
   "execution_count": 92,
   "metadata": {},
   "outputs": [
    {
     "data": {
      "text/plain": [
       "[{'name': 'Datamonitor', 'number_of_employees': 984},\n",
       " {'name': 'Infinera Corporation', 'number_of_employees': 974},\n",
       " {'name': 'Box', 'number_of_employees': 950},\n",
       " {'name': 'NorthPoint Communications Group', 'number_of_employees': 948},\n",
       " {'name': '888 Holdings', 'number_of_employees': 931},\n",
       " {'name': 'Forrester Research', 'number_of_employees': 903},\n",
       " {'name': 'Workday', 'number_of_employees': 900},\n",
       " {'name': 'InMobi', 'number_of_employees': 900},\n",
       " {'name': 'Relax Solutions Pvt Ltd', 'number_of_employees': 900},\n",
       " {'name': 'SonicWALL', 'number_of_employees': 900}]"
      ]
     },
     "execution_count": 92,
     "metadata": {},
     "output_type": "execute_result"
    }
   ],
   "source": [
    "list((col.find({'number_of_employees': {'$gte':100},'number_of_employees':{'$lt':1000}},\n",
    "               {'_id':0, 'name':1,'number_of_employees':1 })\n",
    "            .limit(10).sort('number_of_employees',-1)))"
   ]
  },
  {
   "cell_type": "markdown",
   "metadata": {},
   "source": [
    "### 9. Order all the companies by their IPO price descendently."
   ]
  },
  {
   "cell_type": "code",
   "execution_count": 103,
   "metadata": {},
   "outputs": [
    {
     "data": {
      "text/plain": [
       "[{'name': 'Inuvo', 'ipo': {'valuation_amount': 30000000}},\n",
       " {'name': 'Inuvo', 'ipo': {'valuation_amount': 30000000}},\n",
       " {'name': 'KIT digital', 'ipo': {'valuation_amount': 235000000}},\n",
       " {'name': 'Groupon', 'ipo': {'valuation_amount': 12800000000}},\n",
       " {'name': 'Twitter', 'ipo': {'valuation_amount': 18100000000}},\n",
       " {'name': 'Wix', 'ipo': {'valuation_amount': 750000000}},\n",
       " {'name': 'Vringo', 'ipo': {'valuation_amount': 11003200}},\n",
       " {'name': 'Marketo', 'ipo': {'valuation_amount': 465000000}},\n",
       " {'name': 'Millennial Media', 'ipo': {'valuation_amount': 973500000}},\n",
       " {'name': 'Zillow', 'ipo': {'valuation_amount': 2550000000}},\n",
       " {'name': 'HomeAway', 'ipo': {'valuation_amount': 3000000000}},\n",
       " {'name': 'Chegg', 'ipo': {'valuation_amount': 1100000000}},\n",
       " {'name': 'Chegg', 'ipo': {'valuation_amount': 1100000000}},\n",
       " {'name': 'Tudou', 'ipo': {'valuation_amount': 174000000}},\n",
       " {'name': 'Facebook', 'ipo': {'valuation_amount': 104000000000}},\n",
       " {'name': 'Yelp', 'ipo': {'valuation_amount': 1300000000}},\n",
       " {'name': 'Brightcove', 'ipo': {'valuation_amount': 290000000}},\n",
       " {'name': 'BrightSource Energy', 'ipo': {'valuation_amount': 1000000000}},\n",
       " {'name': 'GREE', 'ipo': {'valuation_amount': 108960000000}},\n",
       " {'name': 'LinkedIn', 'ipo': {'valuation_amount': 9310000000}}]"
      ]
     },
     "execution_count": 103,
     "metadata": {},
     "output_type": "execute_result"
    }
   ],
   "source": [
    " list((col.find({'ipo.valuation_amount': {'$gt':0}},{'_id':0, 'name':1,'ipo.valuation_amount':1 })\n",
    "     .limit(20).sort('founded_year',-1)))"
   ]
  },
  {
   "cell_type": "markdown",
   "metadata": {},
   "source": [
    "### 10. Retrieve the 10 companies with more employees, order by the `number of employees`"
   ]
  },
  {
   "cell_type": "code",
   "execution_count": 105,
   "metadata": {},
   "outputs": [
    {
     "data": {
      "text/plain": [
       "[{'name': 'Siemens', 'number_of_employees': 405000},\n",
       " {'name': 'IBM', 'number_of_employees': 388000},\n",
       " {'name': 'Toyota', 'number_of_employees': 320000},\n",
       " {'name': 'PayPal', 'number_of_employees': 300000},\n",
       " {'name': 'Nippon Telegraph and Telephone Corporation',\n",
       "  'number_of_employees': 227000},\n",
       " {'name': 'Samsung Electronics', 'number_of_employees': 221726},\n",
       " {'name': 'Accenture', 'number_of_employees': 205000},\n",
       " {'name': 'Tata Consultancy Services', 'number_of_employees': 200300},\n",
       " {'name': 'Flextronics International', 'number_of_employees': 200000},\n",
       " {'name': 'Safeway', 'number_of_employees': 186000}]"
      ]
     },
     "execution_count": 105,
     "metadata": {},
     "output_type": "execute_result"
    }
   ],
   "source": [
    "list(col.find({'number_of_employees':{'$gt': 0}},{'_id':0, 'name':1,'number_of_employees':'1'})\\\n",
    "     .limit(10).sort('number_of_employees',-1))"
   ]
  },
  {
   "cell_type": "code",
   "execution_count": null,
   "metadata": {},
   "outputs": [],
   "source": []
  }
 ],
 "metadata": {
  "kernelspec": {
   "display_name": "Python [conda env:ironhack] *",
   "language": "python",
   "name": "conda-env-ironhack-py"
  },
  "language_info": {
   "codemirror_mode": {
    "name": "ipython",
    "version": 3
   },
   "file_extension": ".py",
   "mimetype": "text/x-python",
   "name": "python",
   "nbconvert_exporter": "python",
   "pygments_lexer": "ipython3",
   "version": "3.9.7"
  },
  "varInspector": {
   "cols": {
    "lenName": 16,
    "lenType": 16,
    "lenVar": 40
   },
   "kernels_config": {
    "python": {
     "delete_cmd_postfix": "",
     "delete_cmd_prefix": "del ",
     "library": "var_list.py",
     "varRefreshCmd": "print(var_dic_list())"
    },
    "r": {
     "delete_cmd_postfix": ") ",
     "delete_cmd_prefix": "rm(",
     "library": "var_list.r",
     "varRefreshCmd": "cat(var_dic_list()) "
    }
   },
   "types_to_exclude": [
    "module",
    "function",
    "builtin_function_or_method",
    "instance",
    "_Feature"
   ],
   "window_display": false
  }
 },
 "nbformat": 4,
 "nbformat_minor": 2
}
