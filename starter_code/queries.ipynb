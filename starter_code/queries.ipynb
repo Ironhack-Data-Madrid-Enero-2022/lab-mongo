{
 "cells": [
  {
   "cell_type": "markdown",
   "metadata": {},
   "source": [
    "![Ironhack Logo](https://i.imgur.com/1QgrNNw.png)"
   ]
  },
  {
   "cell_type": "code",
   "execution_count": 7,
   "metadata": {},
   "outputs": [
    {
     "name": "stdout",
     "output_type": "stream",
     "text": [
      "Requirement already satisfied: pymongo in /home/diego/anaconda3/lib/python3.9/site-packages (4.0.1)\r\n"
     ]
    }
   ],
   "source": [
    "!pip install pymongo\n",
    "from pymongo import MongoClient\n",
    "client=MongoClient()\n",
    "db=client.companies1\n",
    "coleccion=db.companies"
   ]
  },
  {
   "cell_type": "markdown",
   "metadata": {},
   "source": [
    "# Answers\n",
    "### 1. All the companies that it's name match 'Babelgum'. Retrieve only their `name` field."
   ]
  },
  {
   "cell_type": "code",
   "execution_count": 10,
   "metadata": {},
   "outputs": [
    {
     "data": {
      "text/plain": [
       "[{'name': 'Babelgum'}]"
      ]
     },
     "execution_count": 10,
     "metadata": {},
     "output_type": "execute_result"
    }
   ],
   "source": [
    "list(coleccion.find({'name': 'Babelgum'},{'name':1,'_id':0}))"
   ]
  },
  {
   "cell_type": "markdown",
   "metadata": {},
   "source": [
    "### 2. All the companies that have more than 5000 employees. Limit the search to 20 companies and sort them by **number of employees**."
   ]
  },
  {
   "cell_type": "code",
   "execution_count": 14,
   "metadata": {
    "scrolled": true
   },
   "outputs": [
    {
     "data": {
      "text/plain": [
       "[{'name': 'Siemens', 'number_of_employees': 405000},\n",
       " {'name': 'IBM', 'number_of_employees': 388000},\n",
       " {'name': 'Toyota', 'number_of_employees': 320000},\n",
       " {'name': 'PayPal', 'number_of_employees': 300000},\n",
       " {'name': 'Nippon Telegraph and Telephone Corporation',\n",
       "  'number_of_employees': 227000},\n",
       " {'name': 'Samsung Electronics', 'number_of_employees': 221726},\n",
       " {'name': 'Accenture', 'number_of_employees': 205000},\n",
       " {'name': 'Tata Consultancy Services', 'number_of_employees': 200300},\n",
       " {'name': 'Flextronics International', 'number_of_employees': 200000},\n",
       " {'name': 'Safeway', 'number_of_employees': 186000},\n",
       " {'name': 'Sony', 'number_of_employees': 180500},\n",
       " {'name': 'LG', 'number_of_employees': 177000},\n",
       " {'name': 'Ford', 'number_of_employees': 171000},\n",
       " {'name': 'Boeing', 'number_of_employees': 160000},\n",
       " {'name': 'Digital Equipment Corporation', 'number_of_employees': 140000},\n",
       " {'name': 'Nokia', 'number_of_employees': 125000},\n",
       " {'name': 'MItsubishi Electric', 'number_of_employees': 107000},\n",
       " {'name': 'MItsubishi Electric', 'number_of_employees': 107000},\n",
       " {'name': 'Comcast', 'number_of_employees': 100000},\n",
       " {'name': 'Bertelsmann', 'number_of_employees': 100000}]"
      ]
     },
     "execution_count": 14,
     "metadata": {},
     "output_type": "execute_result"
    }
   ],
   "source": [
    "list(coleccion.find({'number_of_employees': {'$gt': 5000}},{'name':1,'_id':0, \"number_of_employees\":1}).limit(20).sort('number_of_employees', -1))"
   ]
  },
  {
   "cell_type": "markdown",
   "metadata": {},
   "source": [
    "### 3. All the companies founded between 2000 and 2005, both years included. Retrieve only the `name` and `founded_year` fileds."
   ]
  },
  {
   "cell_type": "code",
   "execution_count": 19,
   "metadata": {},
   "outputs": [
    {
     "data": {
      "text/plain": [
       "[{'name': 'Wetpaint', 'founded_year': 2005},\n",
       " {'name': 'Zoho', 'founded_year': 2005},\n",
       " {'name': 'Digg', 'founded_year': 2004},\n",
       " {'name': 'Facebook', 'founded_year': 2004},\n",
       " {'name': 'Omnidrive', 'founded_year': 2005},\n",
       " {'name': 'StumbleUpon', 'founded_year': 2002},\n",
       " {'name': 'Gizmoz', 'founded_year': 2003},\n",
       " {'name': 'Helio', 'founded_year': 2005},\n",
       " {'name': 'Plaxo', 'founded_year': 2002},\n",
       " {'name': 'Technorati', 'founded_year': 2002},\n",
       " {'name': 'AddThis', 'founded_year': 2004},\n",
       " {'name': 'Veoh', 'founded_year': 2004},\n",
       " {'name': 'Jingle Networks', 'founded_year': 2005},\n",
       " {'name': 'Meetup', 'founded_year': 2002},\n",
       " {'name': 'LifeLock', 'founded_year': 2005},\n",
       " {'name': 'Wesabe', 'founded_year': 2005},\n",
       " {'name': 'Jangl SMS', 'founded_year': 2005},\n",
       " {'name': 'SmugMug', 'founded_year': 2002},\n",
       " {'name': 'Jajah', 'founded_year': 2005},\n",
       " {'name': 'Skype', 'founded_year': 2003},\n",
       " {'name': 'YouTube', 'founded_year': 2005},\n",
       " {'name': 'Pando Networks', 'founded_year': 2004},\n",
       " {'name': 'Ikan', 'founded_year': 2003},\n",
       " {'name': 'delicious', 'founded_year': 2003},\n",
       " {'name': 'Topix', 'founded_year': 2002},\n",
       " {'name': 'Jobster', 'founded_year': 2004},\n",
       " {'name': 'Revision3', 'founded_year': 2005},\n",
       " {'name': 'AllPeers', 'founded_year': 2004},\n",
       " {'name': 'iSkoot', 'founded_year': 2005},\n",
       " {'name': 'AllofMP3', 'founded_year': 2000},\n",
       " {'name': 'Steorn', 'founded_year': 2000},\n",
       " {'name': 'iContact', 'founded_year': 2003},\n",
       " {'name': 'MeeVee', 'founded_year': 2000},\n",
       " {'name': 'blinkx', 'founded_year': 2004},\n",
       " {'name': 'ClipBlast!', 'founded_year': 2005},\n",
       " {'name': 'Zlio', 'founded_year': 2005},\n",
       " {'name': 'Yelp', 'founded_year': 2004},\n",
       " {'name': 'Coghead', 'founded_year': 2003},\n",
       " {'name': 'Farecast', 'founded_year': 2003},\n",
       " {'name': 'Dailymotion', 'founded_year': 2005},\n",
       " {'name': 'KickApps', 'founded_year': 2004},\n",
       " {'name': 'RockYou', 'founded_year': 2005},\n",
       " {'name': 'Instructables', 'founded_year': 2005},\n",
       " {'name': 'Netvibes', 'founded_year': 2005},\n",
       " {'name': 'Swivel', 'founded_year': 2005},\n",
       " {'name': 'Slide', 'founded_year': 2005},\n",
       " {'name': 'Bebo', 'founded_year': 2005},\n",
       " {'name': 'Flickr', 'founded_year': 2004},\n",
       " {'name': 'TripHub', 'founded_year': 2005},\n",
       " {'name': 'FeedBurner', 'founded_year': 2004}]"
      ]
     },
     "execution_count": 19,
     "metadata": {},
     "output_type": "execute_result"
    }
   ],
   "source": [
    "list(coleccion.find({'founded_year': {'$gte': 2000 ,'$lte': 2005}},{'name':1,'_id':0, \"founded_year\":1}).limit(50))"
   ]
  },
  {
   "cell_type": "markdown",
   "metadata": {},
   "source": [
    "### 4. All the companies that had a Valuation Amount of more than 100.000.000 and have been founded before 2010. Retrieve only the `name` and `ipo` fields."
   ]
  },
  {
   "cell_type": "code",
   "execution_count": 43,
   "metadata": {},
   "outputs": [
    {
     "data": {
      "text/plain": [
       "[{'name': 'Facebook',\n",
       "  'ipo': {'valuation_amount': 104000000000,\n",
       "   'valuation_currency_code': 'USD',\n",
       "   'pub_year': 2012,\n",
       "   'pub_month': 5,\n",
       "   'pub_day': 18,\n",
       "   'stock_symbol': 'NASDAQ:FB'}},\n",
       " {'name': 'Twitter',\n",
       "  'ipo': {'valuation_amount': 18100000000,\n",
       "   'valuation_currency_code': 'USD',\n",
       "   'pub_year': 2013,\n",
       "   'pub_month': 11,\n",
       "   'pub_day': 7,\n",
       "   'stock_symbol': 'NYSE:TWTR'}},\n",
       " {'name': 'Yelp',\n",
       "  'ipo': {'valuation_amount': 1300000000,\n",
       "   'valuation_currency_code': 'USD',\n",
       "   'pub_year': 2012,\n",
       "   'pub_month': 3,\n",
       "   'pub_day': 2,\n",
       "   'stock_symbol': 'NYSE:YELP'}},\n",
       " {'name': 'LinkedIn',\n",
       "  'ipo': {'valuation_amount': 9310000000,\n",
       "   'valuation_currency_code': 'USD',\n",
       "   'pub_year': 2011,\n",
       "   'pub_month': 7,\n",
       "   'pub_day': 20,\n",
       "   'stock_symbol': 'NYSE:LNKD'}},\n",
       " {'name': 'Amazon',\n",
       "  'ipo': {'valuation_amount': 100000000000,\n",
       "   'valuation_currency_code': 'USD',\n",
       "   'pub_year': 1997,\n",
       "   'pub_month': 5,\n",
       "   'pub_day': None,\n",
       "   'stock_symbol': 'NASDAQ:AMZN'}},\n",
       " {'name': 'Brightcove',\n",
       "  'ipo': {'valuation_amount': 290000000,\n",
       "   'valuation_currency_code': 'USD',\n",
       "   'pub_year': 2012,\n",
       "   'pub_month': 2,\n",
       "   'pub_day': 17,\n",
       "   'stock_symbol': 'NASDAQ:BCOV'}},\n",
       " {'name': 'KIT digital',\n",
       "  'ipo': {'valuation_amount': 235000000,\n",
       "   'valuation_currency_code': 'USD',\n",
       "   'pub_year': 2010,\n",
       "   'pub_month': 7,\n",
       "   'pub_day': 27,\n",
       "   'stock_symbol': 'KITD'}},\n",
       " {'name': 'Nielsen',\n",
       "  'ipo': {'valuation_amount': 1600000000,\n",
       "   'valuation_currency_code': 'USD',\n",
       "   'pub_year': 2011,\n",
       "   'pub_month': 1,\n",
       "   'pub_day': 26,\n",
       "   'stock_symbol': 'NYSE:NLSN'}},\n",
       " {'name': 'OpenTable',\n",
       "  'ipo': {'valuation_amount': 1050000000,\n",
       "   'valuation_currency_code': 'USD',\n",
       "   'pub_year': 2009,\n",
       "   'pub_month': 5,\n",
       "   'pub_day': 21,\n",
       "   'stock_symbol': 'NASDAQ:OPEN'}},\n",
       " {'name': 'ChannelAdvisor',\n",
       "  'ipo': {'valuation_amount': 287000000,\n",
       "   'valuation_currency_code': 'USD',\n",
       "   'pub_year': 2013,\n",
       "   'pub_month': 5,\n",
       "   'pub_day': 23,\n",
       "   'stock_symbol': 'NYSE:ECOM'}},\n",
       " {'name': 'Jive Software',\n",
       "  'ipo': {'valuation_amount': 1000000000,\n",
       "   'valuation_currency_code': 'USD',\n",
       "   'pub_year': 2012,\n",
       "   'pub_month': 2,\n",
       "   'pub_day': 3,\n",
       "   'stock_symbol': 'NASDAQ:JIVE'}},\n",
       " {'name': 'Zillow',\n",
       "  'ipo': {'valuation_amount': 2550000000,\n",
       "   'valuation_currency_code': 'USD',\n",
       "   'pub_year': 2011,\n",
       "   'pub_month': 7,\n",
       "   'pub_day': 19,\n",
       "   'stock_symbol': 'NASDAQ:Z'}},\n",
       " {'name': 'Wix',\n",
       "  'ipo': {'valuation_amount': 750000000,\n",
       "   'valuation_currency_code': 'USD',\n",
       "   'pub_year': 2013,\n",
       "   'pub_month': 11,\n",
       "   'pub_day': 6,\n",
       "   'stock_symbol': 'NASDAQ:WIX'}},\n",
       " {'name': 'Shutterfly',\n",
       "  'ipo': {'valuation_amount': 350000000,\n",
       "   'valuation_currency_code': 'USD',\n",
       "   'pub_year': 2006,\n",
       "   'pub_month': 9,\n",
       "   'pub_day': 29,\n",
       "   'stock_symbol': 'SFLY'}},\n",
       " {'name': 'TripAdvisor',\n",
       "  'ipo': {'valuation_amount': 3273770000,\n",
       "   'valuation_currency_code': 'USD',\n",
       "   'pub_year': 2011,\n",
       "   'pub_month': 12,\n",
       "   'pub_day': 21,\n",
       "   'stock_symbol': 'TRIP'}},\n",
       " {'name': 'Salesforce',\n",
       "  'ipo': {'valuation_amount': 110000000,\n",
       "   'valuation_currency_code': 'USD',\n",
       "   'pub_year': 2004,\n",
       "   'pub_month': 7,\n",
       "   'pub_day': 2,\n",
       "   'stock_symbol': 'NYSE:CRM'}},\n",
       " {'name': 'HomeAway',\n",
       "  'ipo': {'valuation_amount': 3000000000,\n",
       "   'valuation_currency_code': 'USD',\n",
       "   'pub_year': 2011,\n",
       "   'pub_month': 6,\n",
       "   'pub_day': 29,\n",
       "   'stock_symbol': 'NASDAQ:AWAY'}},\n",
       " {'name': 'QuinStreet',\n",
       "  'ipo': {'valuation_amount': 140000000,\n",
       "   'valuation_currency_code': 'USD',\n",
       "   'pub_year': 2010,\n",
       "   'pub_month': 1,\n",
       "   'pub_day': 11,\n",
       "   'stock_symbol': 'NASDAQ:QNST'}},\n",
       " {'name': 'Rackspace',\n",
       "  'ipo': {'valuation_amount': 5440000000,\n",
       "   'valuation_currency_code': 'USD',\n",
       "   'pub_year': 2011,\n",
       "   'pub_month': 11,\n",
       "   'pub_day': 7,\n",
       "   'stock_symbol': 'RAX'}},\n",
       " {'name': 'BMC Software',\n",
       "  'ipo': {'valuation_amount': 6000000000,\n",
       "   'valuation_currency_code': 'USD',\n",
       "   'pub_year': 1988,\n",
       "   'pub_month': 8,\n",
       "   'pub_day': 12,\n",
       "   'stock_symbol': 'NASDAQ:BMC'}},\n",
       " {'name': 'Higher One',\n",
       "  'ipo': {'valuation_amount': 1060000000,\n",
       "   'valuation_currency_code': 'USD',\n",
       "   'pub_year': None,\n",
       "   'pub_month': None,\n",
       "   'pub_day': None,\n",
       "   'stock_symbol': 'NYSE:ONE'}},\n",
       " {'name': 'Infoblox',\n",
       "  'ipo': {'valuation_amount': 824000000,\n",
       "   'valuation_currency_code': 'USD',\n",
       "   'pub_year': 2012,\n",
       "   'pub_month': 4,\n",
       "   'pub_day': 20,\n",
       "   'stock_symbol': 'NYSE:BLOX'}},\n",
       " {'name': 'Tencent',\n",
       "  'ipo': {'valuation_amount': 11000000000,\n",
       "   'valuation_currency_code': 'USD',\n",
       "   'pub_year': 2004,\n",
       "   'pub_month': 6,\n",
       "   'pub_day': 16,\n",
       "   'stock_symbol': 'HK:0700'}},\n",
       " {'name': 'Marketo',\n",
       "  'ipo': {'valuation_amount': 465000000,\n",
       "   'valuation_currency_code': 'USD',\n",
       "   'pub_year': 2013,\n",
       "   'pub_month': 4,\n",
       "   'pub_day': 2,\n",
       "   'stock_symbol': 'NASDAQ:MKTO'}},\n",
       " {'name': 'Baidu',\n",
       "  'ipo': {'valuation_amount': 4000000000,\n",
       "   'valuation_currency_code': 'USD',\n",
       "   'pub_year': 2005,\n",
       "   'pub_month': 8,\n",
       "   'pub_day': 5,\n",
       "   'stock_symbol': 'NASDAQ:BIDU'}}]"
      ]
     },
     "execution_count": 43,
     "metadata": {},
     "output_type": "execute_result"
    }
   ],
   "source": [
    "list(coleccion.find({\n",
    "    \"ipo.valuation_amount\" : { '$gte' : 100000000 },\n",
    "    \"founded_year\" : { \"$lt\": 2010 }},\n",
    "    {'name':1,'_id':0, 'ipo':1 }\n",
    ").limit(25))\n"
   ]
  },
  {
   "cell_type": "markdown",
   "metadata": {},
   "source": [
    "### 5. All the companies that have less than 1000 employees and have been founded before 2005. Order them by the number of employees and limit the search to 10 companies."
   ]
  },
  {
   "cell_type": "code",
   "execution_count": 47,
   "metadata": {},
   "outputs": [
    {
     "data": {
      "text/plain": [
       "[{'name': 'Infinera Corporation', 'number_of_employees': 974},\n",
       " {'name': 'NorthPoint Communications Group', 'number_of_employees': 948},\n",
       " {'name': '888 Holdings', 'number_of_employees': 931},\n",
       " {'name': 'Forrester Research', 'number_of_employees': 903},\n",
       " {'name': 'SonicWALL', 'number_of_employees': 900},\n",
       " {'name': 'Webmetrics', 'number_of_employees': 900},\n",
       " {'name': 'Cornerstone OnDemand', 'number_of_employees': 881},\n",
       " {'name': 'Mozilla', 'number_of_employees': 800},\n",
       " {'name': 'Buongiorno', 'number_of_employees': 800},\n",
       " {'name': 'Yelp', 'number_of_employees': 800}]"
      ]
     },
     "execution_count": 47,
     "metadata": {},
     "output_type": "execute_result"
    }
   ],
   "source": [
    "list(coleccion.find({\n",
    "    \"number_of_employees\" : { '$lt' : 1000 },\n",
    "    \"founded_year\" : { \"$lt\": 2005 }},\n",
    "    {'name':1,'_id':0, 'number_of_employees':1 }\n",
    ").sort('number_of_employees', -1).limit(10))"
   ]
  },
  {
   "cell_type": "markdown",
   "metadata": {},
   "source": [
    "### 6. All the companies that don't include the `partners` field."
   ]
  },
  {
   "cell_type": "code",
   "execution_count": 54,
   "metadata": {},
   "outputs": [
    {
     "data": {
      "text/plain": [
       "[{'name': 'Wetpaint'},\n",
       " {'name': 'AdventNet'},\n",
       " {'name': 'Zoho'},\n",
       " {'name': 'Digg'},\n",
       " {'name': 'Facebook'},\n",
       " {'name': 'Omnidrive'},\n",
       " {'name': 'Postini'},\n",
       " {'name': 'Geni'},\n",
       " {'name': 'Flektor'},\n",
       " {'name': 'Fox Interactive Media'},\n",
       " {'name': 'Twitter'},\n",
       " {'name': 'StumbleUpon'},\n",
       " {'name': 'Gizmoz'},\n",
       " {'name': 'Scribd'},\n",
       " {'name': 'Slacker'},\n",
       " {'name': 'Lala'},\n",
       " {'name': 'Helio'},\n",
       " {'name': 'eBay'},\n",
       " {'name': 'MeetMoi'},\n",
       " {'name': 'Joost'},\n",
       " {'name': 'CBS'},\n",
       " {'name': 'Viacom'},\n",
       " {'name': 'Babelgum'},\n",
       " {'name': 'Plaxo'},\n",
       " {'name': 'Cisco'}]"
      ]
     },
     "execution_count": 54,
     "metadata": {},
     "output_type": "execute_result"
    }
   ],
   "source": [
    "list(coleccion.find( { 'partners' : { '$exists': True } },{'name':1,'_id':0 } ).limit(25))"
   ]
  },
  {
   "cell_type": "markdown",
   "metadata": {},
   "source": [
    "### 7. All the companies that have a null type of value on the `category_code` field."
   ]
  },
  {
   "cell_type": "code",
   "execution_count": 59,
   "metadata": {},
   "outputs": [
    {
     "data": {
      "text/plain": [
       "[{'name': 'Collective'},\n",
       " {'name': 'Snimmer'},\n",
       " {'name': 'KoolIM'},\n",
       " {'name': 'Level9 Media'},\n",
       " {'name': 'VidKing'},\n",
       " {'name': 'Drigg'},\n",
       " {'name': 'SpaceTime'},\n",
       " {'name': 'Touch Clarity'},\n",
       " {'name': 'MMDAYS'},\n",
       " {'name': 'Inside Group'},\n",
       " {'name': 'Repeater Store'},\n",
       " {'name': 'Tapesh'},\n",
       " {'name': 'iPersians'},\n",
       " {'name': 'NewPersia'},\n",
       " {'name': 'Pyra Labs'},\n",
       " {'name': 'Feedmap'},\n",
       " {'name': 'NuvoMedia'},\n",
       " {'name': 'Intwine'},\n",
       " {'name': 'The Weinstein Company'},\n",
       " {'name': 'ExecuNet'},\n",
       " {'name': 'A1Vacations'},\n",
       " {'name': 'TripHomes'},\n",
       " {'name': 'Picturehouse'},\n",
       " {'name': 'Covalent Technologies'},\n",
       " {'name': 'Epic Trip'}]"
      ]
     },
     "execution_count": 59,
     "metadata": {},
     "output_type": "execute_result"
    }
   ],
   "source": [
    "list(coleccion.find( { 'category_code' : None },{'name':1,'_id':0 } ).limit(25))"
   ]
  },
  {
   "cell_type": "markdown",
   "metadata": {},
   "source": [
    "### 8. All the companies that have at least 100 employees but less than 1000. Retrieve only the `name` and `number of employees` fields."
   ]
  },
  {
   "cell_type": "code",
   "execution_count": 63,
   "metadata": {},
   "outputs": [
    {
     "data": {
      "text/plain": [
       "[{'name': 'Wetpaint', 'number_of_employees': 47},\n",
       " {'name': 'AdventNet', 'number_of_employees': 600},\n",
       " {'name': 'Digg', 'number_of_employees': 60},\n",
       " {'name': 'Geni', 'number_of_employees': 18},\n",
       " {'name': 'Fox Interactive Media', 'number_of_employees': 0},\n",
       " {'name': 'Scribd', 'number_of_employees': 50},\n",
       " {'name': 'MeetMoi', 'number_of_employees': 15},\n",
       " {'name': 'Joost', 'number_of_employees': 0},\n",
       " {'name': 'Plaxo', 'number_of_employees': 50},\n",
       " {'name': 'Powerset', 'number_of_employees': 60}]"
      ]
     },
     "execution_count": 63,
     "metadata": {},
     "output_type": "execute_result"
    }
   ],
   "source": [
    "list(coleccion.find({\n",
    "    \"number_of_employees\" : { '$gte' : 100 },\n",
    "    \"number_of_employees\" : { \"$lte\": 1000 }},\n",
    "    {'name':1,'_id':0, 'number_of_employees':1 }\n",
    ").limit(10))"
   ]
  },
  {
   "cell_type": "markdown",
   "metadata": {},
   "source": [
    "### 9. Order all the companies by their IPO price descendently."
   ]
  },
  {
   "cell_type": "code",
   "execution_count": 69,
   "metadata": {},
   "outputs": [
    {
     "data": {
      "text/plain": [
       "[{'name': 'GREE',\n",
       "  'ipo': {'valuation_amount': 108960000000,\n",
       "   'valuation_currency_code': 'JPY',\n",
       "   'pub_year': 2008,\n",
       "   'pub_month': 12,\n",
       "   'pub_day': 17,\n",
       "   'stock_symbol': '3632'}},\n",
       " {'name': 'Facebook',\n",
       "  'ipo': {'valuation_amount': 104000000000,\n",
       "   'valuation_currency_code': 'USD',\n",
       "   'pub_year': 2012,\n",
       "   'pub_month': 5,\n",
       "   'pub_day': 18,\n",
       "   'stock_symbol': 'NASDAQ:FB'}},\n",
       " {'name': 'Amazon',\n",
       "  'ipo': {'valuation_amount': 100000000000,\n",
       "   'valuation_currency_code': 'USD',\n",
       "   'pub_year': 1997,\n",
       "   'pub_month': 5,\n",
       "   'pub_day': None,\n",
       "   'stock_symbol': 'NASDAQ:AMZN'}},\n",
       " {'name': 'Twitter',\n",
       "  'ipo': {'valuation_amount': 18100000000,\n",
       "   'valuation_currency_code': 'USD',\n",
       "   'pub_year': 2013,\n",
       "   'pub_month': 11,\n",
       "   'pub_day': 7,\n",
       "   'stock_symbol': 'NYSE:TWTR'}},\n",
       " {'name': 'Groupon',\n",
       "  'ipo': {'valuation_amount': 12800000000,\n",
       "   'valuation_currency_code': 'USD',\n",
       "   'pub_year': 2011,\n",
       "   'pub_month': 11,\n",
       "   'pub_day': 7,\n",
       "   'stock_symbol': 'NASDAQ:GRPN'}},\n",
       " {'name': 'Tencent',\n",
       "  'ipo': {'valuation_amount': 11000000000,\n",
       "   'valuation_currency_code': 'USD',\n",
       "   'pub_year': 2004,\n",
       "   'pub_month': 6,\n",
       "   'pub_day': 16,\n",
       "   'stock_symbol': 'HK:0700'}},\n",
       " {'name': 'Western Digital',\n",
       "  'ipo': {'valuation_amount': 9430000000,\n",
       "   'valuation_currency_code': 'USD',\n",
       "   'pub_year': None,\n",
       "   'pub_month': None,\n",
       "   'pub_day': None,\n",
       "   'stock_symbol': 'NYSE:WDC'}},\n",
       " {'name': 'LinkedIn',\n",
       "  'ipo': {'valuation_amount': 9310000000,\n",
       "   'valuation_currency_code': 'USD',\n",
       "   'pub_year': 2011,\n",
       "   'pub_month': 7,\n",
       "   'pub_day': 20,\n",
       "   'stock_symbol': 'NYSE:LNKD'}},\n",
       " {'name': 'BMC Software',\n",
       "  'ipo': {'valuation_amount': 6000000000,\n",
       "   'valuation_currency_code': 'USD',\n",
       "   'pub_year': 1988,\n",
       "   'pub_month': 8,\n",
       "   'pub_day': 12,\n",
       "   'stock_symbol': 'NASDAQ:BMC'}},\n",
       " {'name': 'Rackspace',\n",
       "  'ipo': {'valuation_amount': 5440000000,\n",
       "   'valuation_currency_code': 'USD',\n",
       "   'pub_year': 2011,\n",
       "   'pub_month': 11,\n",
       "   'pub_day': 7,\n",
       "   'stock_symbol': 'RAX'}},\n",
       " {'name': 'Baidu',\n",
       "  'ipo': {'valuation_amount': 4000000000,\n",
       "   'valuation_currency_code': 'USD',\n",
       "   'pub_year': 2005,\n",
       "   'pub_month': 8,\n",
       "   'pub_day': 5,\n",
       "   'stock_symbol': 'NASDAQ:BIDU'}},\n",
       " {'name': 'TripAdvisor',\n",
       "  'ipo': {'valuation_amount': 3273770000,\n",
       "   'valuation_currency_code': 'USD',\n",
       "   'pub_year': 2011,\n",
       "   'pub_month': 12,\n",
       "   'pub_day': 21,\n",
       "   'stock_symbol': 'TRIP'}},\n",
       " {'name': 'HomeAway',\n",
       "  'ipo': {'valuation_amount': 3000000000,\n",
       "   'valuation_currency_code': 'USD',\n",
       "   'pub_year': 2011,\n",
       "   'pub_month': 6,\n",
       "   'pub_day': 29,\n",
       "   'stock_symbol': 'NASDAQ:AWAY'}},\n",
       " {'name': 'Zillow',\n",
       "  'ipo': {'valuation_amount': 2550000000,\n",
       "   'valuation_currency_code': 'USD',\n",
       "   'pub_year': 2011,\n",
       "   'pub_month': 7,\n",
       "   'pub_day': 19,\n",
       "   'stock_symbol': 'NASDAQ:Z'}},\n",
       " {'name': 'Nielsen',\n",
       "  'ipo': {'valuation_amount': 1600000000,\n",
       "   'valuation_currency_code': 'USD',\n",
       "   'pub_year': 2011,\n",
       "   'pub_month': 1,\n",
       "   'pub_day': 26,\n",
       "   'stock_symbol': 'NYSE:NLSN'}},\n",
       " {'name': 'Yelp',\n",
       "  'ipo': {'valuation_amount': 1300000000,\n",
       "   'valuation_currency_code': 'USD',\n",
       "   'pub_year': 2012,\n",
       "   'pub_month': 3,\n",
       "   'pub_day': 2,\n",
       "   'stock_symbol': 'NYSE:YELP'}},\n",
       " {'name': 'Chegg',\n",
       "  'ipo': {'valuation_amount': 1100000000,\n",
       "   'valuation_currency_code': 'USD',\n",
       "   'pub_year': 2013,\n",
       "   'pub_month': 11,\n",
       "   'pub_day': 14,\n",
       "   'stock_symbol': 'NYSE:CHGG'}},\n",
       " {'name': 'Chegg',\n",
       "  'ipo': {'valuation_amount': 1100000000,\n",
       "   'valuation_currency_code': 'USD',\n",
       "   'pub_year': 2013,\n",
       "   'pub_month': 11,\n",
       "   'pub_day': 14,\n",
       "   'stock_symbol': 'NYSE:CHGG'}},\n",
       " {'name': 'RPX Corporation',\n",
       "  'ipo': {'valuation_amount': 1096000000,\n",
       "   'valuation_currency_code': 'USD',\n",
       "   'pub_year': 2011,\n",
       "   'pub_month': 5,\n",
       "   'pub_day': 4,\n",
       "   'stock_symbol': 'RPXC'}},\n",
       " {'name': 'Higher One',\n",
       "  'ipo': {'valuation_amount': 1060000000,\n",
       "   'valuation_currency_code': 'USD',\n",
       "   'pub_year': None,\n",
       "   'pub_month': None,\n",
       "   'pub_day': None,\n",
       "   'stock_symbol': 'NYSE:ONE'}},\n",
       " {'name': 'OpenTable',\n",
       "  'ipo': {'valuation_amount': 1050000000,\n",
       "   'valuation_currency_code': 'USD',\n",
       "   'pub_year': 2009,\n",
       "   'pub_month': 5,\n",
       "   'pub_day': 21,\n",
       "   'stock_symbol': 'NASDAQ:OPEN'}},\n",
       " {'name': 'QlikTech',\n",
       "  'ipo': {'valuation_amount': 1000000000,\n",
       "   'valuation_currency_code': 'USD',\n",
       "   'pub_year': 2010,\n",
       "   'pub_month': 7,\n",
       "   'pub_day': 16,\n",
       "   'stock_symbol': 'QLIK'}},\n",
       " {'name': 'Jive Software',\n",
       "  'ipo': {'valuation_amount': 1000000000,\n",
       "   'valuation_currency_code': 'USD',\n",
       "   'pub_year': 2012,\n",
       "   'pub_month': 2,\n",
       "   'pub_day': 3,\n",
       "   'stock_symbol': 'NASDAQ:JIVE'}},\n",
       " {'name': 'BrightSource Energy',\n",
       "  'ipo': {'valuation_amount': 1000000000,\n",
       "   'valuation_currency_code': 'USD',\n",
       "   'pub_year': 2011,\n",
       "   'pub_month': 4,\n",
       "   'pub_day': 22,\n",
       "   'stock_symbol': 'NASDAQ:BRSE'}},\n",
       " {'name': 'Millennial Media',\n",
       "  'ipo': {'valuation_amount': 973500000,\n",
       "   'valuation_currency_code': 'USD',\n",
       "   'pub_year': 2012,\n",
       "   'pub_month': 3,\n",
       "   'pub_day': 28,\n",
       "   'stock_symbol': 'NYSE:MM'}}]"
      ]
     },
     "execution_count": 69,
     "metadata": {},
     "output_type": "execute_result"
    }
   ],
   "source": [
    "#the first one is in JPY, but if you carry out a currency conversion it will get lower\n",
    "list(coleccion.find({\n",
    "    \"ipo.valuation_amount\" : {'$gte': 0}},\n",
    "    {'name':1,'_id':0, 'ipo':1 }\n",
    ").limit(25).sort('ipo.valuation_amount', -1))"
   ]
  },
  {
   "cell_type": "markdown",
   "metadata": {},
   "source": [
    "### 10. Retrieve the 10 companies with more employees, order by the `number of employees`"
   ]
  },
  {
   "cell_type": "code",
   "execution_count": 71,
   "metadata": {},
   "outputs": [
    {
     "data": {
      "text/plain": [
       "[{'name': 'Siemens', 'number_of_employees': 405000},\n",
       " {'name': 'IBM', 'number_of_employees': 388000},\n",
       " {'name': 'Toyota', 'number_of_employees': 320000},\n",
       " {'name': 'PayPal', 'number_of_employees': 300000},\n",
       " {'name': 'Nippon Telegraph and Telephone Corporation',\n",
       "  'number_of_employees': 227000},\n",
       " {'name': 'Samsung Electronics', 'number_of_employees': 221726},\n",
       " {'name': 'Accenture', 'number_of_employees': 205000},\n",
       " {'name': 'Tata Consultancy Services', 'number_of_employees': 200300},\n",
       " {'name': 'Flextronics International', 'number_of_employees': 200000},\n",
       " {'name': 'Safeway', 'number_of_employees': 186000}]"
      ]
     },
     "execution_count": 71,
     "metadata": {},
     "output_type": "execute_result"
    }
   ],
   "source": [
    "list(coleccion.find({\n",
    "    \"number_of_employees\" : {'$gte': 0}},\n",
    "    {'name':1,'_id':0, 'number_of_employees':1 }\n",
    ").limit(10).sort('number_of_employees', -1))"
   ]
  }
 ],
 "metadata": {
  "kernelspec": {
   "display_name": "Python 3 (ipykernel)",
   "language": "python",
   "name": "python3"
  },
  "language_info": {
   "codemirror_mode": {
    "name": "ipython",
    "version": 3
   },
   "file_extension": ".py",
   "mimetype": "text/x-python",
   "name": "python",
   "nbconvert_exporter": "python",
   "pygments_lexer": "ipython3",
   "version": "3.9.7"
  },
  "varInspector": {
   "cols": {
    "lenName": 16,
    "lenType": 16,
    "lenVar": 40
   },
   "kernels_config": {
    "python": {
     "delete_cmd_postfix": "",
     "delete_cmd_prefix": "del ",
     "library": "var_list.py",
     "varRefreshCmd": "print(var_dic_list())"
    },
    "r": {
     "delete_cmd_postfix": ") ",
     "delete_cmd_prefix": "rm(",
     "library": "var_list.r",
     "varRefreshCmd": "cat(var_dic_list()) "
    }
   },
   "types_to_exclude": [
    "module",
    "function",
    "builtin_function_or_method",
    "instance",
    "_Feature"
   ],
   "window_display": false
  }
 },
 "nbformat": 4,
 "nbformat_minor": 2
}
